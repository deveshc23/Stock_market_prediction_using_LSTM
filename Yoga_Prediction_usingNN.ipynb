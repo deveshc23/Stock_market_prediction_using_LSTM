{
 "cells": [
  {
   "cell_type": "code",
   "execution_count": 1,
   "id": "88fed358",
   "metadata": {
    "_cell_guid": "b1076dfc-b9ad-4769-8c92-a6c4dae69d19",
    "_uuid": "8f2839f25d086af736a60e9eeb907d3b93b6e0e5",
    "execution": {
     "iopub.execute_input": "2024-06-18T15:04:12.203960Z",
     "iopub.status.busy": "2024-06-18T15:04:12.203524Z",
     "iopub.status.idle": "2024-06-18T15:04:13.262681Z",
     "shell.execute_reply": "2024-06-18T15:04:13.261322Z"
    },
    "papermill": {
     "duration": 1.067614,
     "end_time": "2024-06-18T15:04:13.265504",
     "exception": false,
     "start_time": "2024-06-18T15:04:12.197890",
     "status": "completed"
    },
    "tags": []
   },
   "outputs": [],
   "source": [
    "# This Python 3 environment comes with many helpful analytics libraries installed\n",
    "# It is defined by the kaggle/python Docker image: https://github.com/kaggle/docker-python\n",
    "# For example, here's several helpful packages to load\n",
    "\n",
    "import numpy as np # linear algebra\n",
    "import pandas as pd # data processing, CSV file I/O (e.g. pd.read_csv)\n",
    "\n",
    "# Input data files are available in the read-only \"../input/\" directory\n",
    "# For example, running this (by clicking run or pressing Shift+Enter) will list all files under the input directory\n",
    "\n",
    "# import os\n",
    "# for dirname, _, filenames in os.walk('/kaggle/input'):\n",
    "#     for filename in filenames:\n",
    "#         print(os.path.join(dirname, filename))\n",
    "\n",
    "# You can write up to 20GB to the current directory (/kaggle/working/) that gets preserved as output when you create a version using \"Save & Run All\" \n",
    "# You can also write temporary files to /kaggle/temp/, but they won't be saved outside of the current session"
   ]
  },
  {
   "cell_type": "code",
   "execution_count": 2,
   "id": "85b932b6",
   "metadata": {
    "execution": {
     "iopub.execute_input": "2024-06-18T15:04:13.275745Z",
     "iopub.status.busy": "2024-06-18T15:04:13.274658Z",
     "iopub.status.idle": "2024-06-18T15:04:31.030567Z",
     "shell.execute_reply": "2024-06-18T15:04:31.029015Z"
    },
    "papermill": {
     "duration": 17.764429,
     "end_time": "2024-06-18T15:04:31.034021",
     "exception": false,
     "start_time": "2024-06-18T15:04:13.269592",
     "status": "completed"
    },
    "tags": []
   },
   "outputs": [],
   "source": [
    "#Importing training data\n",
    "data1=pd.read_csv('Train82.csv')\n",
    "from sklearn.preprocessing import StandardScaler\n",
    "import tensorflow as tf\n",
    "from tensorflow import keras\n",
    "from tensorflow.keras import layers\n",
    "from sklearn.metrics import accuracy_score\n",
    "data1=data1.dropna()\n",
    "\n",
    "train=data1.drop(columns=['ImgPath','label'])\n",
    "original_columns=train.columns\n",
    "scaler=StandardScaler()\n",
    "train=scaler.fit_transform(train)\n",
    "train=pd.DataFrame(train,columns=original_columns)"
   ]
  },
  {
   "cell_type": "code",
   "execution_count": 4,
   "id": "9754761c",
   "metadata": {
    "execution": {
     "iopub.execute_input": "2024-06-18T15:04:31.044409Z",
     "iopub.status.busy": "2024-06-18T15:04:31.043569Z",
     "iopub.status.idle": "2024-06-18T15:04:31.118614Z",
     "shell.execute_reply": "2024-06-18T15:04:31.117219Z"
    },
    "papermill": {
     "duration": 0.083485,
     "end_time": "2024-06-18T15:04:31.121575",
     "exception": false,
     "start_time": "2024-06-18T15:04:31.038090",
     "status": "completed"
    },
    "tags": []
   },
   "outputs": [
    {
     "name": "stdout",
     "output_type": "stream",
     "text": [
      "Index(['centroid1x', 'centroid1y', 'centroid1z', 'centroid2x', 'centroid2y',\n",
      "       'centroid2z', 'centroid3x', 'centroid3y', 'centroid3z', 'centroid4x',\n",
      "       'centroid4y', 'centroid4z', 'centroid5x', 'centroid5y', 'centroid5z',\n",
      "       'centroid6x', 'centroid6y', 'centroid6z', 'cx0', 'cx11', 'cx12', 'cx13',\n",
      "       'cx14', 'cx15', 'cx16', 'cx23', 'cx24', 'cx25', 'cx26', 'cx27', 'cx28',\n",
      "       'cy0', 'cy11', 'cy12', 'cy13', 'cy14', 'cy15', 'cy16', 'cy23', 'cy24',\n",
      "       'cy25', 'cy26', 'cy27', 'cy28', 'cz0', 'cz11', 'cz12', 'cz13', 'cz14',\n",
      "       'cz15', 'cz16', 'cz23', 'cz24', 'cz25', 'cz26', 'cz28', 'leftelbow',\n",
      "       'lefthip', 'leftknee', 'rightelbow', 'righthip', 'rightknee',\n",
      "       'centroid_1_3_dist', 'centroid_2_4_dist', 'centroid_1_2_dist',\n",
      "       'centroid_1_4_dist', 'centroid_2_3_dist', 'centroid_3_4_dist',\n",
      "       'centroid_5_1_dist', 'centroid_2_6_dist', 'centroid_3_0_dist',\n",
      "       'centroid_1_0_dist', 'centroid_2_0_dist', 'centroid_4_0_dist',\n",
      "       'centroid_5_0_dist', 'centroid_6_0_dist', 'joint_12_16', 'joint_11_15',\n",
      "       'joint_15_16', 'joint_25_26', 'joint_16_26', 'joint_15_25',\n",
      "       'joint_16_25', 'joint_15_26', 'elbow_dif', 'knee_diff', 'hip_diff'],\n",
      "      dtype='object')\n"
     ]
    }
   ],
   "source": [
    "#Feature Engineering\n",
    "#Centroid distance\n",
    "train['centroid_1_3_dist']=(train['centroid1x']-train['centroid3x'])**2 + (train['centroid1y']-train['centroid3y'])**2 + (train['centroid1z']-train['centroid3z'])**2\n",
    "train['centroid_2_4_dist']=(train['centroid2x']-train['centroid4x'])**2 + (train['centroid2y']-train['centroid4y'])**2 + (train['centroid2z']-train['centroid4z'])**2\n",
    "train['centroid_1_2_dist']=(train['centroid1x']-train['centroid2x'])**2 + (train['centroid1y']-train['centroid2y'])**2 + (train['centroid1z']-train['centroid2z'])**2\n",
    "train['centroid_1_4_dist']=(train['centroid1x']-train['centroid4x'])**2 + (train['centroid1y']-train['centroid4y'])**2 + (train['centroid1z']-train['centroid4z'])**2\n",
    "train['centroid_2_3_dist']=(train['centroid2x']-train['centroid3x'])**2 + (train['centroid2y']-train['centroid3y'])**2 + (train['centroid2z']-train['centroid3z'])**2\n",
    "train['centroid_3_4_dist']=(train['centroid4x']-train['centroid3x'])**2 + (train['centroid4y']-train['centroid3y'])**2 + (train['centroid4z']-train['centroid3z'])**2\n",
    "train['centroid_5_1_dist']=(train['centroid1x']-train['centroid5x'])**2 + (train['centroid1y']-train['centroid5y'])**2 + (train['centroid1z']-train['centroid5z'])**2\n",
    "train['centroid_2_6_dist']=(train['centroid2x']-train['centroid6x'])**2 + (train['centroid2y']-train['centroid6y'])**2 + (train['centroid2z']-train['centroid6z'])**2\n",
    "train['centroid_3_0_dist']=(train['centroid3x']-train['cx0'])**2 + (train['centroid3y']-train['cy0'])**2 + (train['centroid3z']-train['cz0'])**2\n",
    "train['centroid_1_0_dist']=(train['centroid1x']-train['cx0'])**2 + (train['centroid1y']-train['cy0'])**2 + (train['centroid1z']-train['cz0'])**2\n",
    "train['centroid_2_0_dist']=(train['centroid2x']-train['cx0'])**2 + (train['centroid2y']-train['cy0'])**2 + (train['centroid2z']-train['cz0'])**2\n",
    "train['centroid_4_0_dist']=(train['centroid4x']-train['cx0'])**2 + (train['centroid4y']-train['cy0'])**2 + (train['centroid4z']-train['cz0'])**2\n",
    "train['centroid_5_0_dist']=(train['centroid5x']-train['cx0'])**2 + (train['centroid5y']-train['cy0'])**2 + (train['centroid5z']-train['cz0'])**2\n",
    "train['centroid_6_0_dist']=(train['centroid6x']-train['cx0'])**2 + (train['centroid6y']-train['cy0'])**2 + (train['centroid6z']-train['cz0'])**2\n",
    "#Some Joints Distance\n",
    "train['joint_12_16']=(train['cx12']-train['cx16'])**2 + (train['cy12']-train['cy16'])**2 + (train['cz12']-train['cz16'])**2\n",
    "train['joint_11_15']=(train['cx11']-train['cx15'])**2 + (train['cy11']-train['cy15'])**2 + (train['cz11']-train['cz15'])**2\n",
    "train['joint_15_16']=(train['cx15']-train['cx16'])**2 + (train['cy15']-train['cy16'])**2 + (train['cz15']-train['cz16'])**2\n",
    "train['joint_25_26']=(train['cx25']-train['cx26'])**2 + (train['cy25']-train['cy26'])**2 + (train['cz25']-train['cz26'])**2\n",
    "train['joint_16_26']=(train['cx16']-train['cx26'])**2 + (train['cy16']-train['cy26'])**2 + (train['cz16']-train['cz26'])**2\n",
    "train['joint_15_25']=(train['cx15']-train['cx25'])**2 + (train['cy15']-train['cy25'])**2 + (train['cz15']-train['cz25'])**2\n",
    "train['joint_16_25']=(train['cx16']-train['cx25'])**2 + (train['cy16']-train['cy25'])**2 + (train['cz16']-train['cz25'])**2\n",
    "train['joint_15_26']=(train['cx15']-train['cx26'])**2 + (train['cy15']-train['cy26'])**2 + (train['cz15']-train['cz26'])**2\n",
    "\n",
    "train['elbow_dif']=np.sqrt((train['leftelbow']-train['rightelbow'])**2)\n",
    "train['knee_diff']=np.sqrt((train['leftknee']-train['rightknee'])**2)\n",
    "train['hip_diff']=np.sqrt((train['lefthip']-train['righthip'])**2)\n",
    "print(train.columns)"
   ]
  },
  {
   "cell_type": "code",
   "execution_count": 5,
   "id": "260e4a6d",
   "metadata": {
    "execution": {
     "iopub.execute_input": "2024-06-18T15:04:31.131357Z",
     "iopub.status.busy": "2024-06-18T15:04:31.130868Z",
     "iopub.status.idle": "2024-06-18T15:04:57.922611Z",
     "shell.execute_reply": "2024-06-18T15:04:57.920586Z"
    },
    "papermill": {
     "duration": 26.800011,
     "end_time": "2024-06-18T15:04:57.925600",
     "exception": false,
     "start_time": "2024-06-18T15:04:31.125589",
     "status": "completed"
    },
    "tags": []
   },
   "outputs": [
    {
     "name": "stdout",
     "output_type": "stream",
     "text": [
      "Epoch 1/25\n",
      "\u001b[1m144/144\u001b[0m \u001b[32m━━━━━━━━━━━━━━━━━━━━\u001b[0m\u001b[37m\u001b[0m \u001b[1m4s\u001b[0m 8ms/step - accuracy: 0.1999 - loss: 3.6949 - val_accuracy: 0.0026 - val_loss: 12.4372\n",
      "Epoch 2/25\n",
      "\u001b[1m144/144\u001b[0m \u001b[32m━━━━━━━━━━━━━━━━━━━━\u001b[0m\u001b[37m\u001b[0m \u001b[1m1s\u001b[0m 6ms/step - accuracy: 0.5636 - loss: 1.7209 - val_accuracy: 0.0026 - val_loss: 13.9277\n",
      "Epoch 3/25\n",
      "\u001b[1m144/144\u001b[0m \u001b[32m━━━━━━━━━━━━━━━━━━━━\u001b[0m\u001b[37m\u001b[0m \u001b[1m1s\u001b[0m 5ms/step - accuracy: 0.7209 - loss: 1.0492 - val_accuracy: 0.0026 - val_loss: 17.3591\n",
      "Epoch 4/25\n",
      "\u001b[1m144/144\u001b[0m \u001b[32m━━━━━━━━━━━━━━━━━━━━\u001b[0m\u001b[37m\u001b[0m \u001b[1m1s\u001b[0m 6ms/step - accuracy: 0.7789 - loss: 0.7830 - val_accuracy: 0.0026 - val_loss: 16.5589\n",
      "Epoch 5/25\n",
      "\u001b[1m144/144\u001b[0m \u001b[32m━━━━━━━━━━━━━━━━━━━━\u001b[0m\u001b[37m\u001b[0m \u001b[1m1s\u001b[0m 6ms/step - accuracy: 0.8272 - loss: 0.6287 - val_accuracy: 0.0026 - val_loss: 18.8075\n",
      "Epoch 6/25\n",
      "\u001b[1m144/144\u001b[0m \u001b[32m━━━━━━━━━━━━━━━━━━━━\u001b[0m\u001b[37m\u001b[0m \u001b[1m1s\u001b[0m 6ms/step - accuracy: 0.8531 - loss: 0.5122 - val_accuracy: 0.0026 - val_loss: 18.3306\n",
      "Epoch 7/25\n",
      "\u001b[1m144/144\u001b[0m \u001b[32m━━━━━━━━━━━━━━━━━━━━\u001b[0m\u001b[37m\u001b[0m \u001b[1m1s\u001b[0m 6ms/step - accuracy: 0.8751 - loss: 0.4549 - val_accuracy: 0.0026 - val_loss: 19.3756\n",
      "Epoch 8/25\n",
      "\u001b[1m144/144\u001b[0m \u001b[32m━━━━━━━━━━━━━━━━━━━━\u001b[0m\u001b[37m\u001b[0m \u001b[1m1s\u001b[0m 6ms/step - accuracy: 0.9010 - loss: 0.3726 - val_accuracy: 0.0026 - val_loss: 21.3548\n",
      "Epoch 9/25\n",
      "\u001b[1m144/144\u001b[0m \u001b[32m━━━━━━━━━━━━━━━━━━━━\u001b[0m\u001b[37m\u001b[0m \u001b[1m1s\u001b[0m 6ms/step - accuracy: 0.9115 - loss: 0.3106 - val_accuracy: 0.0026 - val_loss: 20.3103\n",
      "Epoch 10/25\n",
      "\u001b[1m144/144\u001b[0m \u001b[32m━━━━━━━━━━━━━━━━━━━━\u001b[0m\u001b[37m\u001b[0m \u001b[1m1s\u001b[0m 5ms/step - accuracy: 0.9234 - loss: 0.2658 - val_accuracy: 0.0026 - val_loss: 23.1963\n",
      "Epoch 11/25\n",
      "\u001b[1m144/144\u001b[0m \u001b[32m━━━━━━━━━━━━━━━━━━━━\u001b[0m\u001b[37m\u001b[0m \u001b[1m1s\u001b[0m 5ms/step - accuracy: 0.9382 - loss: 0.2263 - val_accuracy: 0.0026 - val_loss: 23.4689\n",
      "Epoch 12/25\n",
      "\u001b[1m144/144\u001b[0m \u001b[32m━━━━━━━━━━━━━━━━━━━━\u001b[0m\u001b[37m\u001b[0m \u001b[1m1s\u001b[0m 5ms/step - accuracy: 0.9266 - loss: 0.2621 - val_accuracy: 0.0026 - val_loss: 23.4643\n",
      "Epoch 13/25\n",
      "\u001b[1m144/144\u001b[0m \u001b[32m━━━━━━━━━━━━━━━━━━━━\u001b[0m\u001b[37m\u001b[0m \u001b[1m1s\u001b[0m 5ms/step - accuracy: 0.9494 - loss: 0.1730 - val_accuracy: 0.0026 - val_loss: 24.0943\n",
      "Epoch 14/25\n",
      "\u001b[1m144/144\u001b[0m \u001b[32m━━━━━━━━━━━━━━━━━━━━\u001b[0m\u001b[37m\u001b[0m \u001b[1m1s\u001b[0m 6ms/step - accuracy: 0.9437 - loss: 0.1787 - val_accuracy: 0.0026 - val_loss: 24.3665\n",
      "Epoch 15/25\n",
      "\u001b[1m144/144\u001b[0m \u001b[32m━━━━━━━━━━━━━━━━━━━━\u001b[0m\u001b[37m\u001b[0m \u001b[1m1s\u001b[0m 5ms/step - accuracy: 0.9663 - loss: 0.1353 - val_accuracy: 0.0026 - val_loss: 25.5054\n",
      "Epoch 16/25\n",
      "\u001b[1m144/144\u001b[0m \u001b[32m━━━━━━━━━━━━━━━━━━━━\u001b[0m\u001b[37m\u001b[0m \u001b[1m1s\u001b[0m 5ms/step - accuracy: 0.9649 - loss: 0.1261 - val_accuracy: 0.0026 - val_loss: 24.2506\n",
      "Epoch 17/25\n",
      "\u001b[1m144/144\u001b[0m \u001b[32m━━━━━━━━━━━━━━━━━━━━\u001b[0m\u001b[37m\u001b[0m \u001b[1m1s\u001b[0m 6ms/step - accuracy: 0.9525 - loss: 0.1712 - val_accuracy: 0.0026 - val_loss: 25.8310\n",
      "Epoch 18/25\n",
      "\u001b[1m144/144\u001b[0m \u001b[32m━━━━━━━━━━━━━━━━━━━━\u001b[0m\u001b[37m\u001b[0m \u001b[1m1s\u001b[0m 6ms/step - accuracy: 0.9607 - loss: 0.1383 - val_accuracy: 0.0026 - val_loss: 25.0969\n",
      "Epoch 19/25\n",
      "\u001b[1m144/144\u001b[0m \u001b[32m━━━━━━━━━━━━━━━━━━━━\u001b[0m\u001b[37m\u001b[0m \u001b[1m1s\u001b[0m 5ms/step - accuracy: 0.9585 - loss: 0.1374 - val_accuracy: 0.0026 - val_loss: 26.2828\n",
      "Epoch 20/25\n",
      "\u001b[1m144/144\u001b[0m \u001b[32m━━━━━━━━━━━━━━━━━━━━\u001b[0m\u001b[37m\u001b[0m \u001b[1m1s\u001b[0m 6ms/step - accuracy: 0.9658 - loss: 0.1146 - val_accuracy: 0.0026 - val_loss: 25.1631\n",
      "Epoch 21/25\n",
      "\u001b[1m144/144\u001b[0m \u001b[32m━━━━━━━━━━━━━━━━━━━━\u001b[0m\u001b[37m\u001b[0m \u001b[1m1s\u001b[0m 5ms/step - accuracy: 0.9375 - loss: 0.2040 - val_accuracy: 0.0026 - val_loss: 24.6668\n",
      "Epoch 22/25\n",
      "\u001b[1m144/144\u001b[0m \u001b[32m━━━━━━━━━━━━━━━━━━━━\u001b[0m\u001b[37m\u001b[0m \u001b[1m1s\u001b[0m 6ms/step - accuracy: 0.9780 - loss: 0.0848 - val_accuracy: 0.0026 - val_loss: 25.9953\n",
      "Epoch 23/25\n",
      "\u001b[1m144/144\u001b[0m \u001b[32m━━━━━━━━━━━━━━━━━━━━\u001b[0m\u001b[37m\u001b[0m \u001b[1m1s\u001b[0m 6ms/step - accuracy: 0.9766 - loss: 0.0810 - val_accuracy: 0.0026 - val_loss: 24.5250\n",
      "Epoch 24/25\n",
      "\u001b[1m144/144\u001b[0m \u001b[32m━━━━━━━━━━━━━━━━━━━━\u001b[0m\u001b[37m\u001b[0m \u001b[1m1s\u001b[0m 6ms/step - accuracy: 0.9651 - loss: 0.1311 - val_accuracy: 0.0026 - val_loss: 25.2315\n",
      "Epoch 25/25\n",
      "\u001b[1m144/144\u001b[0m \u001b[32m━━━━━━━━━━━━━━━━━━━━\u001b[0m\u001b[37m\u001b[0m \u001b[1m1s\u001b[0m 6ms/step - accuracy: 0.9820 - loss: 0.0672 - val_accuracy: 0.0026 - val_loss: 25.0638\n"
     ]
    },
    {
     "data": {
      "text/plain": [
       "<keras.src.callbacks.history.History at 0x20dff7cede0>"
      ]
     },
     "execution_count": 5,
     "metadata": {},
     "output_type": "execute_result"
    }
   ],
   "source": [
    "# Assuming you have your data in X (features) and y (labels)\n",
    "# Example using .loc\n",
    "#X = train.loc[:, ['centroid_1_3_dist','centroid_1_2_dist', 'centroid_1_4_dist','centroid_2_3_dist','centroid_2_4_dist','centroid_3_4_dist','centroid_5_1_dist','centroid_2_6_dist','joint_12_16','joint_11_15','joint_15_16','joint_25_26','leftelbow','lefthip','leftknee']] \n",
    "X = train\n",
    "y = data1['label']  # All rows, 'label' column\n",
    "inp=len(train.columns)\n",
    "output=data1['label'].nunique()\n",
    "# Define the model\n",
    "model = keras.Sequential([\n",
    "    layers.Input(shape=(inp,)),  # Input layer with num_features neurons\n",
    "    layers.Dense(128, activation='relu'),\n",
    "    layers.Dense(256, activation='relu'),\n",
    "    layers.Dense(512, activation='relu'),\n",
    "    layers.Dense(256, activation='relu'),\n",
    "    layers.Dense(128, activation='relu'),\n",
    "    layers.Dense(output, activation='softmax')  # Output layer with softmax\n",
    "])\n",
    "\n",
    "# Compile the model\n",
    "model.compile(optimizer='adam',\n",
    "              loss='sparse_categorical_crossentropy',  \n",
    "              metrics=['accuracy'])\n",
    "# Train the model\n",
    "model.fit(X, y, epochs=25,batch_size=32, validation_split=0.2)"
   ]
  },
  {
   "cell_type": "code",
   "execution_count": 6,
   "id": "13b97008",
   "metadata": {
    "execution": {
     "iopub.execute_input": "2024-06-18T15:04:58.021828Z",
     "iopub.status.busy": "2024-06-18T15:04:58.021380Z",
     "iopub.status.idle": "2024-06-18T15:04:58.188585Z",
     "shell.execute_reply": "2024-06-18T15:04:58.187255Z"
    },
    "papermill": {
     "duration": 0.218578,
     "end_time": "2024-06-18T15:04:58.192022",
     "exception": false,
     "start_time": "2024-06-18T15:04:57.973444",
     "status": "completed"
    },
    "tags": []
   },
   "outputs": [
    {
     "name": "stdout",
     "output_type": "stream",
     "text": [
      "      centroid1x  centroid1y  centroid1z  centroid2x  centroid2y  centroid2z  \\\n",
      "0       0.500948   -2.054576    0.919272   -0.105763   -2.007583   -0.353327   \n",
      "1       0.963845   -1.983268    0.448259    0.690224   -1.952084   -0.876006   \n",
      "2       1.190571   -0.897640    0.514203    0.783493   -0.974443   -0.876797   \n",
      "3       0.696957   -1.305935    0.077240    0.967554   -0.701618    0.542106   \n",
      "4      -0.459432   -1.550552   -0.457381   -0.494040   -1.657268    0.770178   \n",
      "...          ...         ...         ...         ...         ...         ...   \n",
      "4696   -0.808915    0.156505    0.138464   -1.577010   -0.021746   -0.474726   \n",
      "4697   -1.003820   -0.208164   -0.739060    1.748084   -0.219865   -0.953824   \n",
      "4698   -0.135255   -0.483626    1.619870    0.173744    0.155589   -1.046673   \n",
      "4699   -0.448677    0.495712    1.397874   -0.770241    0.637180   -0.207089   \n",
      "4700    0.382557   -0.626179   -0.908916    0.590456   -0.973515   -0.461070   \n",
      "\n",
      "      centroid3x  centroid3y  centroid3z  centroid4x  ...      cz24      cz25  \\\n",
      "0       0.102391   -1.931242    1.056569    0.860706  ...  0.945621 -0.337204   \n",
      "1      -1.203933   -0.063673    0.945848    0.427534  ...  1.060903 -0.615186   \n",
      "2       0.947683    1.135221    0.340220   -1.292142  ...  0.951650 -0.130200   \n",
      "3       1.328134    0.183339   -0.688306   -0.549178  ... -0.764163  0.714531   \n",
      "4       0.617218    0.704382   -1.082276   -1.039852  ... -1.067909  0.862606   \n",
      "...          ...         ...         ...         ...  ...       ...       ...   \n",
      "4696   -0.119162   -0.100838    0.099984    1.656226  ...  0.637595 -1.063089   \n",
      "4697   -0.674307    1.058902   -1.661206    1.326731  ...  0.046470 -1.753224   \n",
      "4698   -0.304040    0.479536    0.082952    1.307683  ...  1.109493 -2.330589   \n",
      "4699   -0.302107    0.720830    0.837095    0.956452  ...  1.137110 -1.448595   \n",
      "4700   -1.813634   -0.176924   -1.064659   -0.451782  ... -0.519044 -0.426433   \n",
      "\n",
      "          cz26      cz28  leftelbow   lefthip  leftknee  rightelbow  righthip  \\\n",
      "0     1.055354  0.847263  -0.744452  0.596145  1.069690   -1.530033  0.044957   \n",
      "1     0.766098  0.825043   0.917643  0.116761  0.123898    0.414277 -0.092623   \n",
      "2     0.692458 -0.291865   0.202849  0.111706 -0.910518    0.090121  0.280719   \n",
      "3    -0.388040 -0.749040  -1.420107  1.146873  0.178617   -0.008233 -0.664294   \n",
      "4    -0.939065 -0.949544   0.024957  0.990931 -0.039891    0.314116 -1.009885   \n",
      "...        ...       ...        ...       ...       ...         ...       ...   \n",
      "4696  0.311543 -0.323422  -1.411166  0.284694 -1.581593   -1.242386 -1.548454   \n",
      "4697 -0.959639 -2.553420   0.890515 -0.999804 -1.718132    1.010091 -0.882061   \n",
      "4698  0.158186 -0.417265  -0.034620 -0.605019 -2.012373    0.700071 -0.332497   \n",
      "4699  0.867747  0.487081  -2.061584 -0.869224 -1.707786   -1.611000 -1.048169   \n",
      "4700 -1.589018 -0.578239   0.630305 -1.134449  0.986056    0.944098 -1.021193   \n",
      "\n",
      "      rightknee  \n",
      "0      0.400206  \n",
      "1     -0.810270  \n",
      "2      0.268532  \n",
      "3     -0.956355  \n",
      "4     -1.103383  \n",
      "...         ...  \n",
      "4696   0.414324  \n",
      "4697   1.179067  \n",
      "4698   0.772760  \n",
      "4699   1.105426  \n",
      "4700  -1.639733  \n",
      "\n",
      "[4701 rows x 62 columns]\n"
     ]
    }
   ],
   "source": [
    "data2=pd.read_csv('Test82 2.csv')\n",
    "data2=data2.dropna()\n",
    "test=data2.drop(columns='ImgPath')\n",
    "test=scaler.fit_transform(test)\n",
    "test=pd.DataFrame(test,columns=original_columns)\n",
    "print(test)"
   ]
  },
  {
   "cell_type": "code",
   "execution_count": 9,
   "id": "d27cc9f0",
   "metadata": {
    "execution": {
     "iopub.execute_input": "2024-06-18T15:04:58.291179Z",
     "iopub.status.busy": "2024-06-18T15:04:58.290725Z",
     "iopub.status.idle": "2024-06-18T15:04:59.029276Z",
     "shell.execute_reply": "2024-06-18T15:04:59.027674Z"
    },
    "papermill": {
     "duration": 0.790943,
     "end_time": "2024-06-18T15:04:59.032354",
     "exception": false,
     "start_time": "2024-06-18T15:04:58.241411",
     "status": "completed"
    },
    "tags": []
   },
   "outputs": [
    {
     "name": "stdout",
     "output_type": "stream",
     "text": [
      "\u001b[1m147/147\u001b[0m \u001b[32m━━━━━━━━━━━━━━━━━━━━\u001b[0m\u001b[37m\u001b[0m \u001b[1m0s\u001b[0m 3ms/step\n",
      "(4701, 82)\n",
      "[40 40 40 ...  1 52 49]\n"
     ]
    },
    {
     "data": {
      "text/plain": [
       "'The csv file of the results got a public score of 0.98595 in the Kaggle Competition'"
      ]
     },
     "execution_count": 9,
     "metadata": {},
     "output_type": "execute_result"
    }
   ],
   "source": [
    "\n",
    "test['centroid_1_3_dist']=(test['centroid1x']-test['centroid3x'])**2 + (test['centroid1y']-test['centroid3y'])**2 + (test['centroid1z']-test['centroid3z'])**2\n",
    "test['centroid_2_4_dist']=(test['centroid2x']-test['centroid4x'])**2 + (test['centroid2y']-test['centroid4y'])**2 + (test['centroid2z']-test['centroid4z'])**2\n",
    "test['centroid_1_2_dist']=(test['centroid1x']-test['centroid2x'])**2 + (test['centroid1y']-test['centroid2y'])**2 + (test['centroid1z']-test['centroid2z'])**2\n",
    "test['centroid_1_4_dist']=(test['centroid1x']-test['centroid4x'])**2 + (test['centroid1y']-test['centroid4y'])**2 + (test['centroid1z']-test['centroid4z'])**2\n",
    "test['centroid_2_3_dist']=(test['centroid2x']-test['centroid3x'])**2 + (test['centroid2y']-test['centroid3y'])**2 + (test['centroid2z']-test['centroid3z'])**2\n",
    "test['centroid_3_4_dist']=(test['centroid4x']-test['centroid3x'])**2 + (test['centroid4y']-test['centroid3y'])**2 + (test['centroid4z']-test['centroid3z'])**2\n",
    "test['centroid_5_1_dist']=(test['centroid1x']-test['centroid5x'])**2 + (test['centroid1y']-test['centroid5y'])**2 + (test['centroid1z']-test['centroid5z'])**2\n",
    "test['centroid_2_6_dist']=(test['centroid2x']-test['centroid6x'])**2 + (test['centroid2y']-test['centroid6y'])**2 + (test['centroid2z']-test['centroid6z'])**2\n",
    "test['centroid_3_0_dist']=(test['centroid3x']-test['cx0'])**2 + (test['centroid3y']-test['cy0'])**2 + (test['centroid3z']-test['cz0'])**2\n",
    "test['centroid_1_0_dist']=(test['centroid1x']-test['cx0'])**2 + (test['centroid1y']-test['cy0'])**2 + (test['centroid1z']-test['cz0'])**2\n",
    "test['centroid_2_0_dist']=(test['centroid2x']-test['cx0'])**2 + (test['centroid2y']-test['cy0'])**2 + (test['centroid2z']-test['cz0'])**2\n",
    "test['centroid_4_0_dist']=(test['centroid4x']-test['cx0'])**2 + (test['centroid4y']-test['cy0'])**2 + (test['centroid4z']-test['cz0'])**2\n",
    "test['centroid_5_0_dist']=(test['centroid5x']-test['cx0'])**2 + (test['centroid5y']-test['cy0'])**2 + (test['centroid5z']-test['cz0'])**2\n",
    "test['centroid_6_0_dist']=(test['centroid6x']-test['cx0'])**2 + (test['centroid6y']-test['cy0'])**2 + (test['centroid6z']-test['cz0'])**2\n",
    "#Some Joints Distance\n",
    "test['joint_12_16']=(test['cx12']-test['cx16'])**2 + (test['cy12']-test['cy16'])**2 + (test['cz12']-test['cz16'])**2\n",
    "test['joint_11_15']=(test['cx11']-test['cx15'])**2 + (test['cy11']-test['cy15'])**2 + (test['cz11']-test['cz15'])**2\n",
    "test['joint_15_16']=(test['cx15']-test['cx16'])**2 + (test['cy15']-test['cy16'])**2 + (test['cz15']-test['cz16'])**2\n",
    "test['joint_25_26']=(test['cx25']-test['cx26'])**2 + (test['cy25']-test['cy26'])**2 + (test['cz25']-test['cz26'])**2\n",
    "test['joint_16_26']=(test['cx16']-test['cx26'])**2 + (test['cy16']-test['cy26'])**2 + (test['cz16']-test['cz26'])**2\n",
    "test['joint_15_25']=(test['cx15']-test['cx25'])**2 + (test['cy15']-test['cy25'])**2 + (test['cz15']-test['cz25'])**2\n",
    "test['joint_16_25']=(test['cx16']-test['cx25'])**2 + (test['cy16']-test['cy25'])**2 + (test['cz16']-test['cz25'])**2\n",
    "test['joint_15_26']=(test['cx15']-test['cx26'])**2 + (test['cy15']-test['cy26'])**2 + (test['cz15']-test['cz26'])**2\n",
    "\n",
    "test['elbow_dif']=np.sqrt((test['leftelbow']-test['rightelbow'])**2)\n",
    "test['knee_diff']=np.sqrt((test['leftknee']-test['rightknee'])**2)\n",
    "test['hip_diff']=np.sqrt((test['lefthip']-test['righthip'])**2)\n",
    "#X_test = test.loc[:, ['centroid_1_3_dist','centroid_1_2_dist', 'centroid_1_4_dist','centroid_2_3_dist','centroid_2_4_dist','centroid_3_4_dist','centroid_5_1_dist','centroid_2_6_dist','joint_12_16','joint_11_15','joint_15_16','joint_25_26','leftelbow','lefthip','leftknee']]\n",
    "X_test=test\n",
    "y_pred = model.predict(X_test)\n",
    "#y_pred_labels = np.argmax(y_pred, axis=1)\n",
    "#label_mapping = {i: label for i, label in enumerate(train['label'].unique())}  \n",
    "#y_pred_original_labels = [label_mapping[i] for i in y_pred_labels]\n",
    "print(y_pred.shape)\n",
    "\n",
    "max_indices=[]\n",
    "\n",
    "for inner_array in y_pred:\n",
    "    # Find the index of the maximum value in the inner array\n",
    "    max_index = np.argmax(inner_array)\n",
    "    \n",
    "    # Append the index to the list\n",
    "    max_indices.append(max_index)\n",
    "\n",
    "# Convert the list of indices to a NumPy array\n",
    "max_indices_array = np.array(max_indices)\n",
    "\n",
    "# Print the array of indices of maximum values\n",
    "print(max_indices_array)\n",
    "# Create DataFrame and Save Results\n",
    "df = pd.DataFrame({'ImgPath': data2['ImgPath'], 'label': max_indices_array})\n",
    "\n",
    "# Create a temporary DataFrame with only the combined column\n",
    "df['ImgPath'] = df['ImgPath'].astype(str)\n",
    "df['label'] = df['label'].astype(str)\n",
    "#df_combined = df[['ImgPath', 'label']].copy()\n",
    "#df_combined['ImgPath, label'] = df_combined['ImgPath'] + ', ' + df_combined['label']\n",
    "\n",
    "# Save the temporary DataFrame with the combined column\n",
    "#df_combined[['ImgPath, label']].to_csv('results.csv', index=False, header=False)\n",
    "\n",
    "#print(\"Results saved to results.csv and results_with_all_columns.csv\")\n",
    "#df_combined.head()\n",
    "#results=df_combined.drop(columns=['ImgPath','label'])\n",
    "df.to_csv('results.csv',index=False)\n",
    "\"\"\"The csv file of the results got a public score of 0.98595 in the Kaggle Competition\"\"\""
   ]
  },
  {
   "cell_type": "code",
   "execution_count": null,
   "id": "5fe15a9e",
   "metadata": {},
   "outputs": [],
   "source": []
  }
 ],
 "metadata": {
  "kaggle": {
   "accelerator": "none",
   "dataSources": [
    {
     "databundleVersionId": 8837066,
     "sourceId": 81556,
     "sourceType": "competition"
    }
   ],
   "dockerImageVersionId": 30732,
   "isGpuEnabled": false,
   "isInternetEnabled": true,
   "language": "python",
   "sourceType": "notebook"
  },
  "kernelspec": {
   "display_name": "Python 3",
   "language": "python",
   "name": "python3"
  },
  "language_info": {
   "codemirror_mode": {
    "name": "ipython",
    "version": 3
   },
   "file_extension": ".py",
   "mimetype": "text/x-python",
   "name": "python",
   "nbconvert_exporter": "python",
   "pygments_lexer": "ipython3",
   "version": "3.12.6"
  },
  "papermill": {
   "default_parameters": {},
   "duration": 52.033961,
   "end_time": "2024-06-18T15:05:00.806722",
   "environment_variables": {},
   "exception": null,
   "input_path": "__notebook__.ipynb",
   "output_path": "__notebook__.ipynb",
   "parameters": {},
   "start_time": "2024-06-18T15:04:08.772761",
   "version": "2.5.0"
  }
 },
 "nbformat": 4,
 "nbformat_minor": 5
}
